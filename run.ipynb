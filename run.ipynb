{
  "nbformat": 4,
  "nbformat_minor": 0,
  "metadata": {
    "colab": {
      "name": "run.ipynb",
      "provenance": [],
      "collapsed_sections": [],
      "toc_visible": true,
      "authorship_tag": "ABX9TyNx0ALGhHayIf6AgpFuwoPF",
      "include_colab_link": true
    },
    "kernelspec": {
      "name": "python3",
      "display_name": "Python 3"
    },
    "accelerator": "GPU"
  },
  "cells": [
    {
      "source": [
        "<a href=\"https://colab.research.google.com/github/yuooka/kaggleops-tutorial/blob/master/run.ipynb\" target=\"_parent\"><img src=\"https://colab.research.google.com/assets/colab-badge.svg\" alt=\"Open In Colab\"/></a>"
      ],
      "cell_type": "markdown",
      "metadata": {}
    },
    {
      "source": [
        "gpu_info = !nvidia-smi\n",
        "gpu_info = '\\n'.join(gpu_info)\n",
        "print(gpu_info)"
      ],
      "cell_type": "code",
      "metadata": {
        "id": "1jge8zyim2Ij",
        "colab_type": "code",
        "colab": {
          "base_uri": "https://localhost:8080/",
          "height": 357
        },
        "outputId": "2fd2fce9-63c4-40ac-e967-917946b60123"
      },
      "execution_count": null,
      "outputs": []
    },
    {
      "source": [
        "# 各種設定"
      ],
      "cell_type": "markdown",
      "metadata": {}
    },
    {
      "source": [
        "import os\n",
        "\n",
        "from google.colab import auth\n",
        "auth.authenticate_user()\n",
        "\n",
        "PROJECT_ID = 'kaggleops-project'\n",
        "BUCKET_NAME = 'kaggleops-bucket'\n",
        "\n",
        "os.environ[\"GCLOUD_PROJECT\"] = PROJECT_ID"
      ],
      "cell_type": "code",
      "metadata": {
        "id": "hPJ27Y80tJsM",
        "colab_type": "code",
        "colab": {}
      },
      "execution_count": null,
      "outputs": []
    },
    {
      "source": [
        "!git clone https://github.com/yuooka/kaggleops-tutorial.git"
      ],
      "cell_type": "code",
      "metadata": {
        "id": "1xUNW80N3OFv",
        "colab_type": "code",
        "colab": {
          "base_uri": "https://localhost:8080/",
          "height": 136
        },
        "outputId": "2172b7b4-0624-4bfc-f756-6e124c604950"
      },
      "execution_count": null,
      "outputs": []
    },
    {
      "source": [
        "!pip install -qr ./kaggleops-tutorial/requirements.txt"
      ],
      "cell_type": "code",
      "metadata": {
        "id": "n16ZU48S7jUg",
        "colab_type": "code",
        "colab": {
          "base_uri": "https://localhost:8080/",
          "height": 510
        },
        "outputId": "e79cb331-2347-45d1-b31f-5ddde77f7220"
      },
      "execution_count": null,
      "outputs": []
    },
    {
      "source": [
        "cd ./kaggleops-tutorial/src"
      ],
      "cell_type": "code",
      "metadata": {
        "id": "kHUbahVK62Zz",
        "colab_type": "code",
        "colab": {
          "base_uri": "https://localhost:8080/",
          "height": 34
        },
        "outputId": "90c3dad6-5191-4d4e-b0ee-16b051075929"
      },
      "execution_count": null,
      "outputs": []
    },
    {
      "source": [
        "!gcloud config set project {PROJECT_ID}"
      ],
      "cell_type": "code",
      "metadata": {
        "id": "GTcGY8iNeAWw",
        "colab_type": "code",
        "colab": {
          "base_uri": "https://localhost:8080/",
          "height": 34
        },
        "outputId": "b75a7f5a-b498-4a65-dda2-9e18e15328a9"
      },
      "execution_count": null,
      "outputs": []
    },
    {
      "source": [
        "!gsutil -mq cp -rn gs://{BUCKET_NAME}/mlruns /content/{BUCKET_NAME}/src"
      ],
      "cell_type": "code",
      "metadata": {
        "id": "ok2xBefseAZm",
        "colab_type": "code",
        "colab": {}
      },
      "execution_count": null,
      "outputs": []
    },
    {
      "cell_type": "markdown",
      "metadata": {
        "id": "RuH_fzFVc2Fp",
        "colab_type": "text"
      },
      "source": [
        "# プログラム実行"
      ]
    },
    {
      "source": [
        "!python mlproject.py"
      ],
      "cell_type": "code",
      "metadata": {
        "id": "LGqcfCgexi-v",
        "colab_type": "code",
        "colab": {
          "base_uri": "https://localhost:8080/",
          "height": 510
        },
        "outputId": "3753befe-f76c-4109-ac65-9d7cb8ccd299"
      },
      "execution_count": null,
      "outputs": []
    },
    {
      "cell_type": "markdown",
      "metadata": {
        "id": "5c_2NmChc7dH",
        "colab_type": "text"
      },
      "source": [
        "# ローカルに保存されたmlrunsをGCSに転送"
      ]
    },
    {
      "source": [
        "!gsutil -mq cp -rn /content/{BUCKET_NAME}/src/mlruns gs://{BUCKET_NAME}"
      ],
      "cell_type": "code",
      "metadata": {
        "id": "9H1DvsErJCms",
        "colab_type": "code",
        "colab": {}
      },
      "execution_count": null,
      "outputs": []
    }
  ]
}